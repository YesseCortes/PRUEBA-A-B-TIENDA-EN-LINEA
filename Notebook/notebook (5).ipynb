{
 "cells": [
  {
   "cell_type": "markdown",
   "metadata": {},
   "source": [
    "# PROYECTO DE PRUEBA A/B “recommender_system_test”"
   ]
  },
  {
   "cell_type": "markdown",
   "metadata": {},
   "source": [
    "## Paso 1: Objetivos del estudio.\n",
    "determinar si el nuevo sistema de recomendaciones mejora la conversión en el embudo"
   ]
  },
  {
   "cell_type": "markdown",
   "metadata": {},
   "source": [
    "### Métrica primaria: \n",
    "\n",
    "Tasa de conversión en cada paso del embudo."
   ]
  },
  {
   "cell_type": "markdown",
   "metadata": {},
   "source": [
    "### Métricas de apoyo\n",
    "\n",
    "Embudo: tasas entre etapas clave (p. ej., visita → carrito → compra).\n",
    "\n",
    "Actividad: número de eventos por usuario y su distribución entre grupos.\n",
    "\n",
    "Temporalidad: distribución diaria de eventos para detectar picos/caídas."
   ]
  },
  {
   "cell_type": "markdown",
   "metadata": {},
   "source": [
    "### Hipótesis:\n",
    "\n",
    "H0: no hay diferencias en las tasas de conversión entre grupos A y B.\n",
    "\n",
    "H1: hay diferencias; se espera un ≥10% de aumento en grupo B."
   ]
  },
  {
   "cell_type": "markdown",
   "metadata": {},
   "source": [
    "### Nivel de significancia: \n",
    "α = 0.05."
   ]
  },
  {
   "cell_type": "markdown",
   "metadata": {},
   "source": [
    "## Importación de librerías"
   ]
  },
  {
   "cell_type": "code",
   "execution_count": 40,
   "metadata": {},
   "outputs": [],
   "source": [
    "import pandas as pd\n",
    "import matplotlib.pyplot as plt\n",
    "import numpy as np\n",
    "from statsmodels.stats.proportion import proportions_ztest"
   ]
  },
  {
   "cell_type": "markdown",
   "metadata": {},
   "source": [
    "## Paso 2: Exploración de datos"
   ]
  },
  {
   "cell_type": "markdown",
   "metadata": {},
   "source": [
    "### 2.1 Carga de datos"
   ]
  },
  {
   "cell_type": "code",
   "execution_count": 41,
   "metadata": {},
   "outputs": [],
   "source": [
    "marketing=pd.read_csv(r\"C:\\Users\\yesse\\OneDrive\\Documentos\\PROYECTOS ANALISIS DE DATOS\\PRUEBA A-B TIENDA EN LINEA\\Data\\ab_project_marketing_events_us.csv\")\n",
    "usuarios=pd.read_csv(r\"C:\\Users\\yesse\\OneDrive\\Documentos\\PROYECTOS ANALISIS DE DATOS\\PRUEBA A-B TIENDA EN LINEA\\Data\\final_ab_new_users_upd_us.csv\")\n",
    "eventos=pd.read_csv(r\"C:\\Users\\yesse\\OneDrive\\Documentos\\PROYECTOS ANALISIS DE DATOS\\PRUEBA A-B TIENDA EN LINEA\\Data\\final_ab_events_upd_us.csv\")\n",
    "participantes=pd.read_csv(r\"C:\\Users\\yesse\\OneDrive\\Documentos\\PROYECTOS ANALISIS DE DATOS\\PRUEBA A-B TIENDA EN LINEA\\Data\\final_ab_participants_upd_us.csv\")"
   ]
  },
  {
   "cell_type": "markdown",
   "metadata": {},
   "source": [
    "### 2.2 Limpieza de datos"
   ]
  },
  {
   "cell_type": "markdown",
   "metadata": {},
   "source": [
    "#### Marketing"
   ]
  },
  {
   "cell_type": "code",
   "execution_count": 42,
   "metadata": {},
   "outputs": [
    {
     "name": "stdout",
     "output_type": "stream",
     "text": [
      "<class 'pandas.core.frame.DataFrame'>\n",
      "RangeIndex: 14 entries, 0 to 13\n",
      "Data columns (total 4 columns):\n",
      " #   Column     Non-Null Count  Dtype \n",
      "---  ------     --------------  ----- \n",
      " 0   name       14 non-null     object\n",
      " 1   regions    14 non-null     object\n",
      " 2   start_dt   14 non-null     object\n",
      " 3   finish_dt  14 non-null     object\n",
      "dtypes: object(4)\n",
      "memory usage: 580.0+ bytes\n"
     ]
    }
   ],
   "source": [
    "marketing.info()"
   ]
  },
  {
   "cell_type": "code",
   "execution_count": 43,
   "metadata": {},
   "outputs": [],
   "source": [
    "# Cambio de tipo de datos de start_dt y finish_dt  \n",
    "\n",
    "marketing[\"start_dt\"]  = pd.to_datetime(marketing[\"start_dt\"], errors=\"coerce\")\n",
    "marketing[\"finish_dt\"] = pd.to_datetime(marketing[\"finish_dt\"], errors=\"coerce\")"
   ]
  },
  {
   "cell_type": "code",
   "execution_count": 44,
   "metadata": {},
   "outputs": [],
   "source": [
    "# Estandarizar letras\n",
    "for c in [\"name\",\"regions\"]:\n",
    "    if c in marketing.columns:\n",
    "        marketing[c] = marketing[c].str.strip().str.lower()"
   ]
  },
  {
   "cell_type": "code",
   "execution_count": 45,
   "metadata": {},
   "outputs": [
    {
     "data": {
      "application/vnd.microsoft.datawrangler.viewer.v0+json": {
       "columns": [
        {
         "name": "index",
         "rawType": "object",
         "type": "string"
        },
        {
         "name": "0",
         "rawType": "int64",
         "type": "integer"
        }
       ],
       "ref": "be1f0df6-0be4-4283-8ea8-733d9e403cff",
       "rows": [
        [
         "name",
         "0"
        ],
        [
         "regions",
         "0"
        ],
        [
         "start_dt",
         "0"
        ],
        [
         "finish_dt",
         "0"
        ]
       ],
       "shape": {
        "columns": 1,
        "rows": 4
       }
      },
      "text/plain": [
       "name         0\n",
       "regions      0\n",
       "start_dt     0\n",
       "finish_dt    0\n",
       "dtype: int64"
      ]
     },
     "execution_count": 45,
     "metadata": {},
     "output_type": "execute_result"
    }
   ],
   "source": [
    "# Valores ausentes\n",
    "marketing.isna().sum()"
   ]
  },
  {
   "cell_type": "code",
   "execution_count": 46,
   "metadata": {},
   "outputs": [
    {
     "data": {
      "text/plain": [
       "np.int64(0)"
      ]
     },
     "execution_count": 46,
     "metadata": {},
     "output_type": "execute_result"
    }
   ],
   "source": [
    "# Valores duplicados\n",
    "marketing.duplicated().sum()"
   ]
  },
  {
   "cell_type": "code",
   "execution_count": 47,
   "metadata": {},
   "outputs": [
    {
     "data": {
      "application/vnd.microsoft.datawrangler.viewer.v0+json": {
       "columns": [
        {
         "name": "index",
         "rawType": "object",
         "type": "string"
        },
        {
         "name": "0",
         "rawType": "int64",
         "type": "integer"
        }
       ],
       "ref": "26eaf0c1-e2d4-4e14-a40b-3327446c1f5e",
       "rows": [
        [
         "name",
         "0"
        ],
        [
         "regions",
         "0"
        ],
        [
         "start_dt",
         "0"
        ],
        [
         "finish_dt",
         "0"
        ]
       ],
       "shape": {
        "columns": 1,
        "rows": 4
       }
      },
      "text/plain": [
       "name         0\n",
       "regions      0\n",
       "start_dt     0\n",
       "finish_dt    0\n",
       "dtype: int64"
      ]
     },
     "execution_count": 47,
     "metadata": {},
     "output_type": "execute_result"
    }
   ],
   "source": [
    "# Valores Nulos\n",
    "marketing.isnull().sum()"
   ]
  },
  {
   "cell_type": "markdown",
   "metadata": {},
   "source": [
    "#### Usuarios"
   ]
  },
  {
   "cell_type": "code",
   "execution_count": 48,
   "metadata": {},
   "outputs": [
    {
     "name": "stdout",
     "output_type": "stream",
     "text": [
      "<class 'pandas.core.frame.DataFrame'>\n",
      "RangeIndex: 58703 entries, 0 to 58702\n",
      "Data columns (total 4 columns):\n",
      " #   Column      Non-Null Count  Dtype \n",
      "---  ------      --------------  ----- \n",
      " 0   user_id     58703 non-null  object\n",
      " 1   first_date  58703 non-null  object\n",
      " 2   region      58703 non-null  object\n",
      " 3   device      58703 non-null  object\n",
      "dtypes: object(4)\n",
      "memory usage: 1.8+ MB\n"
     ]
    }
   ],
   "source": [
    "usuarios.info()"
   ]
  },
  {
   "cell_type": "code",
   "execution_count": 49,
   "metadata": {},
   "outputs": [
    {
     "data": {
      "application/vnd.microsoft.datawrangler.viewer.v0+json": {
       "columns": [
        {
         "name": "index",
         "rawType": "int64",
         "type": "integer"
        },
        {
         "name": "user_id",
         "rawType": "object",
         "type": "string"
        },
        {
         "name": "first_date",
         "rawType": "object",
         "type": "string"
        },
        {
         "name": "region",
         "rawType": "object",
         "type": "string"
        },
        {
         "name": "device",
         "rawType": "object",
         "type": "string"
        }
       ],
       "ref": "24578582-c90d-4347-a32d-f7e969b92bfa",
       "rows": [
        [
         "0",
         "D72A72121175D8BE",
         "2020-12-07",
         "EU",
         "PC"
        ],
        [
         "1",
         "F1C668619DFE6E65",
         "2020-12-07",
         "N.America",
         "Android"
        ],
        [
         "2",
         "2E1BF1D4C37EA01F",
         "2020-12-07",
         "EU",
         "PC"
        ],
        [
         "3",
         "50734A22C0C63768",
         "2020-12-07",
         "EU",
         "iPhone"
        ],
        [
         "4",
         "E1BDDCE0DAFA2679",
         "2020-12-07",
         "N.America",
         "iPhone"
        ]
       ],
       "shape": {
        "columns": 4,
        "rows": 5
       }
      },
      "text/html": [
       "<div>\n",
       "<style scoped>\n",
       "    .dataframe tbody tr th:only-of-type {\n",
       "        vertical-align: middle;\n",
       "    }\n",
       "\n",
       "    .dataframe tbody tr th {\n",
       "        vertical-align: top;\n",
       "    }\n",
       "\n",
       "    .dataframe thead th {\n",
       "        text-align: right;\n",
       "    }\n",
       "</style>\n",
       "<table border=\"1\" class=\"dataframe\">\n",
       "  <thead>\n",
       "    <tr style=\"text-align: right;\">\n",
       "      <th></th>\n",
       "      <th>user_id</th>\n",
       "      <th>first_date</th>\n",
       "      <th>region</th>\n",
       "      <th>device</th>\n",
       "    </tr>\n",
       "  </thead>\n",
       "  <tbody>\n",
       "    <tr>\n",
       "      <th>0</th>\n",
       "      <td>D72A72121175D8BE</td>\n",
       "      <td>2020-12-07</td>\n",
       "      <td>EU</td>\n",
       "      <td>PC</td>\n",
       "    </tr>\n",
       "    <tr>\n",
       "      <th>1</th>\n",
       "      <td>F1C668619DFE6E65</td>\n",
       "      <td>2020-12-07</td>\n",
       "      <td>N.America</td>\n",
       "      <td>Android</td>\n",
       "    </tr>\n",
       "    <tr>\n",
       "      <th>2</th>\n",
       "      <td>2E1BF1D4C37EA01F</td>\n",
       "      <td>2020-12-07</td>\n",
       "      <td>EU</td>\n",
       "      <td>PC</td>\n",
       "    </tr>\n",
       "    <tr>\n",
       "      <th>3</th>\n",
       "      <td>50734A22C0C63768</td>\n",
       "      <td>2020-12-07</td>\n",
       "      <td>EU</td>\n",
       "      <td>iPhone</td>\n",
       "    </tr>\n",
       "    <tr>\n",
       "      <th>4</th>\n",
       "      <td>E1BDDCE0DAFA2679</td>\n",
       "      <td>2020-12-07</td>\n",
       "      <td>N.America</td>\n",
       "      <td>iPhone</td>\n",
       "    </tr>\n",
       "  </tbody>\n",
       "</table>\n",
       "</div>"
      ],
      "text/plain": [
       "            user_id  first_date     region   device\n",
       "0  D72A72121175D8BE  2020-12-07         EU       PC\n",
       "1  F1C668619DFE6E65  2020-12-07  N.America  Android\n",
       "2  2E1BF1D4C37EA01F  2020-12-07         EU       PC\n",
       "3  50734A22C0C63768  2020-12-07         EU   iPhone\n",
       "4  E1BDDCE0DAFA2679  2020-12-07  N.America   iPhone"
      ]
     },
     "execution_count": 49,
     "metadata": {},
     "output_type": "execute_result"
    }
   ],
   "source": [
    "usuarios.head()"
   ]
  },
  {
   "cell_type": "code",
   "execution_count": 50,
   "metadata": {},
   "outputs": [],
   "source": [
    "# Convetir las columnas de fechas al formato correcto\n",
    "\n",
    "usuarios[\"first_date\"]  = pd.to_datetime(usuarios[\"first_date\"], errors=\"coerce\")"
   ]
  },
  {
   "cell_type": "code",
   "execution_count": 51,
   "metadata": {},
   "outputs": [],
   "source": [
    "# normalización de letras y tipo de datos\n",
    "usuarios[\"user_id\"] = usuarios[\"user_id\"].str.strip()\n",
    "for c in [\"region\", \"device\"]:\n",
    "    if c in usuarios.columns:\n",
    "        usuarios[c] = usuarios[c].str.strip().str.lower()"
   ]
  },
  {
   "cell_type": "code",
   "execution_count": 52,
   "metadata": {},
   "outputs": [
    {
     "data": {
      "application/vnd.microsoft.datawrangler.viewer.v0+json": {
       "columns": [
        {
         "name": "index",
         "rawType": "object",
         "type": "string"
        },
        {
         "name": "0",
         "rawType": "int64",
         "type": "integer"
        }
       ],
       "ref": "5aa58124-7545-4da4-9c45-4f36e4d7a4f4",
       "rows": [
        [
         "user_id",
         "0"
        ],
        [
         "first_date",
         "0"
        ],
        [
         "region",
         "0"
        ],
        [
         "device",
         "0"
        ]
       ],
       "shape": {
        "columns": 1,
        "rows": 4
       }
      },
      "text/plain": [
       "user_id       0\n",
       "first_date    0\n",
       "region        0\n",
       "device        0\n",
       "dtype: int64"
      ]
     },
     "execution_count": 52,
     "metadata": {},
     "output_type": "execute_result"
    }
   ],
   "source": [
    "# Valores ausentes\n",
    "usuarios.isna().sum()\n"
   ]
  },
  {
   "cell_type": "code",
   "execution_count": 53,
   "metadata": {},
   "outputs": [
    {
     "data": {
      "text/plain": [
       "np.int64(0)"
      ]
     },
     "execution_count": 53,
     "metadata": {},
     "output_type": "execute_result"
    }
   ],
   "source": [
    "# Valores duplicados\n",
    "usuarios.duplicated().sum()"
   ]
  },
  {
   "cell_type": "code",
   "execution_count": 54,
   "metadata": {},
   "outputs": [
    {
     "data": {
      "application/vnd.microsoft.datawrangler.viewer.v0+json": {
       "columns": [
        {
         "name": "index",
         "rawType": "object",
         "type": "string"
        },
        {
         "name": "0",
         "rawType": "int64",
         "type": "integer"
        }
       ],
       "ref": "d34946ea-e130-43ed-bac3-ba39333c6a3d",
       "rows": [
        [
         "user_id",
         "0"
        ],
        [
         "first_date",
         "0"
        ],
        [
         "region",
         "0"
        ],
        [
         "device",
         "0"
        ]
       ],
       "shape": {
        "columns": 1,
        "rows": 4
       }
      },
      "text/plain": [
       "user_id       0\n",
       "first_date    0\n",
       "region        0\n",
       "device        0\n",
       "dtype: int64"
      ]
     },
     "execution_count": 54,
     "metadata": {},
     "output_type": "execute_result"
    }
   ],
   "source": [
    "# Valores nulos\n",
    "usuarios.isnull().sum()"
   ]
  },
  {
   "cell_type": "markdown",
   "metadata": {},
   "source": [
    "#### Eventos"
   ]
  },
  {
   "cell_type": "code",
   "execution_count": 55,
   "metadata": {},
   "outputs": [
    {
     "name": "stdout",
     "output_type": "stream",
     "text": [
      "<class 'pandas.core.frame.DataFrame'>\n",
      "RangeIndex: 423761 entries, 0 to 423760\n",
      "Data columns (total 4 columns):\n",
      " #   Column      Non-Null Count   Dtype  \n",
      "---  ------      --------------   -----  \n",
      " 0   user_id     423761 non-null  object \n",
      " 1   event_dt    423761 non-null  object \n",
      " 2   event_name  423761 non-null  object \n",
      " 3   details     60314 non-null   float64\n",
      "dtypes: float64(1), object(3)\n",
      "memory usage: 12.9+ MB\n"
     ]
    }
   ],
   "source": [
    "eventos.info()"
   ]
  },
  {
   "cell_type": "code",
   "execution_count": 56,
   "metadata": {},
   "outputs": [
    {
     "data": {
      "application/vnd.microsoft.datawrangler.viewer.v0+json": {
       "columns": [
        {
         "name": "index",
         "rawType": "int64",
         "type": "integer"
        },
        {
         "name": "user_id",
         "rawType": "object",
         "type": "string"
        },
        {
         "name": "event_dt",
         "rawType": "object",
         "type": "string"
        },
        {
         "name": "event_name",
         "rawType": "object",
         "type": "string"
        },
        {
         "name": "details",
         "rawType": "float64",
         "type": "float"
        }
       ],
       "ref": "6914e540-942b-473f-8024-7f92c72ac329",
       "rows": [
        [
         "0",
         "E1BDDCE0DAFA2679",
         "2020-12-07 20:22:03",
         "purchase",
         "99.99"
        ],
        [
         "1",
         "7B6452F081F49504",
         "2020-12-07 09:22:53",
         "purchase",
         "9.99"
        ],
        [
         "2",
         "9CD9F34546DF254C",
         "2020-12-07 12:59:29",
         "purchase",
         "4.99"
        ],
        [
         "3",
         "96F27A054B191457",
         "2020-12-07 04:02:40",
         "purchase",
         "4.99"
        ],
        [
         "4",
         "1FD7660FDF94CA1F",
         "2020-12-07 10:15:09",
         "purchase",
         "4.99"
        ]
       ],
       "shape": {
        "columns": 4,
        "rows": 5
       }
      },
      "text/html": [
       "<div>\n",
       "<style scoped>\n",
       "    .dataframe tbody tr th:only-of-type {\n",
       "        vertical-align: middle;\n",
       "    }\n",
       "\n",
       "    .dataframe tbody tr th {\n",
       "        vertical-align: top;\n",
       "    }\n",
       "\n",
       "    .dataframe thead th {\n",
       "        text-align: right;\n",
       "    }\n",
       "</style>\n",
       "<table border=\"1\" class=\"dataframe\">\n",
       "  <thead>\n",
       "    <tr style=\"text-align: right;\">\n",
       "      <th></th>\n",
       "      <th>user_id</th>\n",
       "      <th>event_dt</th>\n",
       "      <th>event_name</th>\n",
       "      <th>details</th>\n",
       "    </tr>\n",
       "  </thead>\n",
       "  <tbody>\n",
       "    <tr>\n",
       "      <th>0</th>\n",
       "      <td>E1BDDCE0DAFA2679</td>\n",
       "      <td>2020-12-07 20:22:03</td>\n",
       "      <td>purchase</td>\n",
       "      <td>99.99</td>\n",
       "    </tr>\n",
       "    <tr>\n",
       "      <th>1</th>\n",
       "      <td>7B6452F081F49504</td>\n",
       "      <td>2020-12-07 09:22:53</td>\n",
       "      <td>purchase</td>\n",
       "      <td>9.99</td>\n",
       "    </tr>\n",
       "    <tr>\n",
       "      <th>2</th>\n",
       "      <td>9CD9F34546DF254C</td>\n",
       "      <td>2020-12-07 12:59:29</td>\n",
       "      <td>purchase</td>\n",
       "      <td>4.99</td>\n",
       "    </tr>\n",
       "    <tr>\n",
       "      <th>3</th>\n",
       "      <td>96F27A054B191457</td>\n",
       "      <td>2020-12-07 04:02:40</td>\n",
       "      <td>purchase</td>\n",
       "      <td>4.99</td>\n",
       "    </tr>\n",
       "    <tr>\n",
       "      <th>4</th>\n",
       "      <td>1FD7660FDF94CA1F</td>\n",
       "      <td>2020-12-07 10:15:09</td>\n",
       "      <td>purchase</td>\n",
       "      <td>4.99</td>\n",
       "    </tr>\n",
       "  </tbody>\n",
       "</table>\n",
       "</div>"
      ],
      "text/plain": [
       "            user_id             event_dt event_name  details\n",
       "0  E1BDDCE0DAFA2679  2020-12-07 20:22:03   purchase    99.99\n",
       "1  7B6452F081F49504  2020-12-07 09:22:53   purchase     9.99\n",
       "2  9CD9F34546DF254C  2020-12-07 12:59:29   purchase     4.99\n",
       "3  96F27A054B191457  2020-12-07 04:02:40   purchase     4.99\n",
       "4  1FD7660FDF94CA1F  2020-12-07 10:15:09   purchase     4.99"
      ]
     },
     "execution_count": 56,
     "metadata": {},
     "output_type": "execute_result"
    }
   ],
   "source": [
    "eventos.head()"
   ]
  },
  {
   "cell_type": "code",
   "execution_count": 57,
   "metadata": {},
   "outputs": [],
   "source": [
    "# Cambio de dytipe \n",
    "eventos[\"event_dt\"]  = pd.to_datetime(eventos[\"event_dt\"], errors=\"coerce\")\n"
   ]
  },
  {
   "cell_type": "code",
   "execution_count": 58,
   "metadata": {},
   "outputs": [
    {
     "data": {
      "application/vnd.microsoft.datawrangler.viewer.v0+json": {
       "columns": [
        {
         "name": "index",
         "rawType": "object",
         "type": "string"
        },
        {
         "name": "0",
         "rawType": "int64",
         "type": "integer"
        }
       ],
       "ref": "5ed7adab-02c1-4936-b636-3a3bbfe3e03d",
       "rows": [
        [
         "user_id",
         "0"
        ],
        [
         "event_dt",
         "0"
        ],
        [
         "event_name",
         "0"
        ],
        [
         "details",
         "363447"
        ]
       ],
       "shape": {
        "columns": 1,
        "rows": 4
       }
      },
      "text/plain": [
       "user_id            0\n",
       "event_dt           0\n",
       "event_name         0\n",
       "details       363447\n",
       "dtype: int64"
      ]
     },
     "execution_count": 58,
     "metadata": {},
     "output_type": "execute_result"
    }
   ],
   "source": [
    "# Valores ausentes\n",
    "eventos.isna().sum()"
   ]
  },
  {
   "cell_type": "code",
   "execution_count": 59,
   "metadata": {},
   "outputs": [
    {
     "data": {
      "text/plain": [
       "np.int64(0)"
      ]
     },
     "execution_count": 59,
     "metadata": {},
     "output_type": "execute_result"
    }
   ],
   "source": [
    "# Valores duplicados\n",
    "eventos.duplicated().sum()"
   ]
  },
  {
   "cell_type": "code",
   "execution_count": 60,
   "metadata": {},
   "outputs": [
    {
     "data": {
      "application/vnd.microsoft.datawrangler.viewer.v0+json": {
       "columns": [
        {
         "name": "index",
         "rawType": "object",
         "type": "string"
        },
        {
         "name": "0",
         "rawType": "int64",
         "type": "integer"
        }
       ],
       "ref": "35ceaa28-9c47-425d-8797-5eb0fdbc536f",
       "rows": [
        [
         "user_id",
         "0"
        ],
        [
         "event_dt",
         "0"
        ],
        [
         "event_name",
         "0"
        ],
        [
         "details",
         "363447"
        ]
       ],
       "shape": {
        "columns": 1,
        "rows": 4
       }
      },
      "text/plain": [
       "user_id            0\n",
       "event_dt           0\n",
       "event_name         0\n",
       "details       363447\n",
       "dtype: int64"
      ]
     },
     "execution_count": 60,
     "metadata": {},
     "output_type": "execute_result"
    }
   ],
   "source": [
    "# Valores nulos\n",
    "eventos.isnull().sum()"
   ]
  },
  {
   "cell_type": "markdown",
   "metadata": {},
   "source": [
    "#### Paticipantes"
   ]
  },
  {
   "cell_type": "code",
   "execution_count": 61,
   "metadata": {},
   "outputs": [
    {
     "name": "stdout",
     "output_type": "stream",
     "text": [
      "<class 'pandas.core.frame.DataFrame'>\n",
      "RangeIndex: 14525 entries, 0 to 14524\n",
      "Data columns (total 3 columns):\n",
      " #   Column   Non-Null Count  Dtype \n",
      "---  ------   --------------  ----- \n",
      " 0   user_id  14525 non-null  object\n",
      " 1   group    14525 non-null  object\n",
      " 2   ab_test  14525 non-null  object\n",
      "dtypes: object(3)\n",
      "memory usage: 340.6+ KB\n"
     ]
    }
   ],
   "source": [
    "participantes.info()"
   ]
  },
  {
   "cell_type": "code",
   "execution_count": 62,
   "metadata": {},
   "outputs": [
    {
     "data": {
      "application/vnd.microsoft.datawrangler.viewer.v0+json": {
       "columns": [
        {
         "name": "index",
         "rawType": "int64",
         "type": "integer"
        },
        {
         "name": "user_id",
         "rawType": "object",
         "type": "string"
        },
        {
         "name": "group",
         "rawType": "object",
         "type": "string"
        },
        {
         "name": "ab_test",
         "rawType": "object",
         "type": "string"
        }
       ],
       "ref": "146007ea-0e96-4dcf-a45b-36b7d73ed3bb",
       "rows": [
        [
         "0",
         "D1ABA3E2887B6A73",
         "A",
         "recommender_system_test"
        ],
        [
         "1",
         "A7A3664BD6242119",
         "A",
         "recommender_system_test"
        ],
        [
         "2",
         "DABC14FDDFADD29E",
         "A",
         "recommender_system_test"
        ],
        [
         "3",
         "04988C5DF189632E",
         "A",
         "recommender_system_test"
        ],
        [
         "4",
         "4FF2998A348C484F",
         "A",
         "recommender_system_test"
        ]
       ],
       "shape": {
        "columns": 3,
        "rows": 5
       }
      },
      "text/html": [
       "<div>\n",
       "<style scoped>\n",
       "    .dataframe tbody tr th:only-of-type {\n",
       "        vertical-align: middle;\n",
       "    }\n",
       "\n",
       "    .dataframe tbody tr th {\n",
       "        vertical-align: top;\n",
       "    }\n",
       "\n",
       "    .dataframe thead th {\n",
       "        text-align: right;\n",
       "    }\n",
       "</style>\n",
       "<table border=\"1\" class=\"dataframe\">\n",
       "  <thead>\n",
       "    <tr style=\"text-align: right;\">\n",
       "      <th></th>\n",
       "      <th>user_id</th>\n",
       "      <th>group</th>\n",
       "      <th>ab_test</th>\n",
       "    </tr>\n",
       "  </thead>\n",
       "  <tbody>\n",
       "    <tr>\n",
       "      <th>0</th>\n",
       "      <td>D1ABA3E2887B6A73</td>\n",
       "      <td>A</td>\n",
       "      <td>recommender_system_test</td>\n",
       "    </tr>\n",
       "    <tr>\n",
       "      <th>1</th>\n",
       "      <td>A7A3664BD6242119</td>\n",
       "      <td>A</td>\n",
       "      <td>recommender_system_test</td>\n",
       "    </tr>\n",
       "    <tr>\n",
       "      <th>2</th>\n",
       "      <td>DABC14FDDFADD29E</td>\n",
       "      <td>A</td>\n",
       "      <td>recommender_system_test</td>\n",
       "    </tr>\n",
       "    <tr>\n",
       "      <th>3</th>\n",
       "      <td>04988C5DF189632E</td>\n",
       "      <td>A</td>\n",
       "      <td>recommender_system_test</td>\n",
       "    </tr>\n",
       "    <tr>\n",
       "      <th>4</th>\n",
       "      <td>4FF2998A348C484F</td>\n",
       "      <td>A</td>\n",
       "      <td>recommender_system_test</td>\n",
       "    </tr>\n",
       "  </tbody>\n",
       "</table>\n",
       "</div>"
      ],
      "text/plain": [
       "            user_id group                  ab_test\n",
       "0  D1ABA3E2887B6A73     A  recommender_system_test\n",
       "1  A7A3664BD6242119     A  recommender_system_test\n",
       "2  DABC14FDDFADD29E     A  recommender_system_test\n",
       "3  04988C5DF189632E     A  recommender_system_test\n",
       "4  4FF2998A348C484F     A  recommender_system_test"
      ]
     },
     "execution_count": 62,
     "metadata": {},
     "output_type": "execute_result"
    }
   ],
   "source": [
    "participantes.head()"
   ]
  },
  {
   "cell_type": "code",
   "execution_count": 63,
   "metadata": {},
   "outputs": [
    {
     "data": {
      "application/vnd.microsoft.datawrangler.viewer.v0+json": {
       "columns": [
        {
         "name": "index",
         "rawType": "object",
         "type": "string"
        },
        {
         "name": "0",
         "rawType": "int64",
         "type": "integer"
        }
       ],
       "ref": "aaa230e5-26df-40e8-b116-00a79e510d55",
       "rows": [
        [
         "user_id",
         "0"
        ],
        [
         "group",
         "0"
        ],
        [
         "ab_test",
         "0"
        ]
       ],
       "shape": {
        "columns": 1,
        "rows": 3
       }
      },
      "text/plain": [
       "user_id    0\n",
       "group      0\n",
       "ab_test    0\n",
       "dtype: int64"
      ]
     },
     "execution_count": 63,
     "metadata": {},
     "output_type": "execute_result"
    }
   ],
   "source": [
    "# Valores ausentes\n",
    "participantes.isna().sum()"
   ]
  },
  {
   "cell_type": "code",
   "execution_count": 64,
   "metadata": {},
   "outputs": [
    {
     "data": {
      "application/vnd.microsoft.datawrangler.viewer.v0+json": {
       "columns": [
        {
         "name": "index",
         "rawType": "object",
         "type": "string"
        },
        {
         "name": "0",
         "rawType": "int64",
         "type": "integer"
        }
       ],
       "ref": "4a9103be-c160-4a3b-ba32-1b8972545eea",
       "rows": [
        [
         "user_id",
         "0"
        ],
        [
         "group",
         "0"
        ],
        [
         "ab_test",
         "0"
        ]
       ],
       "shape": {
        "columns": 1,
        "rows": 3
       }
      },
      "text/plain": [
       "user_id    0\n",
       "group      0\n",
       "ab_test    0\n",
       "dtype: int64"
      ]
     },
     "execution_count": 64,
     "metadata": {},
     "output_type": "execute_result"
    }
   ],
   "source": [
    "# Valores nulos\n",
    "participantes.isnull().sum()"
   ]
  },
  {
   "cell_type": "code",
   "execution_count": 65,
   "metadata": {},
   "outputs": [
    {
     "data": {
      "text/plain": [
       "np.int64(0)"
      ]
     },
     "execution_count": 65,
     "metadata": {},
     "output_type": "execute_result"
    }
   ],
   "source": [
    "# Valores duplicados\n",
    "participantes.duplicated().sum()"
   ]
  },
  {
   "cell_type": "markdown",
   "metadata": {},
   "source": [
    "### 2.3 Filtrado de region EU"
   ]
  },
  {
   "cell_type": "code",
   "execution_count": 66,
   "metadata": {},
   "outputs": [
    {
     "data": {
      "application/vnd.microsoft.datawrangler.viewer.v0+json": {
       "columns": [
        {
         "name": "region",
         "rawType": "object",
         "type": "string"
        },
        {
         "name": "count",
         "rawType": "int64",
         "type": "integer"
        }
       ],
       "ref": "4119ad36-793e-4b42-902d-acc73e4ea428",
       "rows": [
        [
         "eu",
         "43396"
        ],
        [
         "n.america",
         "9051"
        ],
        [
         "cis",
         "3130"
        ],
        [
         "apac",
         "3126"
        ]
       ],
       "shape": {
        "columns": 1,
        "rows": 4
       }
      },
      "text/plain": [
       "region\n",
       "eu           43396\n",
       "n.america     9051\n",
       "cis           3130\n",
       "apac          3126\n",
       "Name: count, dtype: int64"
      ]
     },
     "execution_count": 66,
     "metadata": {},
     "output_type": "execute_result"
    }
   ],
   "source": [
    "# Distribucion de regiones registradas\n",
    "usuarios['region'].value_counts(dropna=False)\n"
   ]
  },
  {
   "cell_type": "code",
   "execution_count": 67,
   "metadata": {},
   "outputs": [
    {
     "data": {
      "application/vnd.microsoft.datawrangler.viewer.v0+json": {
       "columns": [
        {
         "name": "region",
         "rawType": "object",
         "type": "string"
        },
        {
         "name": "count",
         "rawType": "int64",
         "type": "integer"
        }
       ],
       "ref": "b824daf9-51f1-4df6-80f6-181114e798c4",
       "rows": [
        [
         "n.america",
         "119"
        ],
        [
         "apac",
         "45"
        ],
        [
         "cis",
         "30"
        ]
       ],
       "shape": {
        "columns": 1,
        "rows": 3
       }
      },
      "text/plain": [
       "region\n",
       "n.america    119\n",
       "apac          45\n",
       "cis           30\n",
       "Name: count, dtype: int64"
      ]
     },
     "execution_count": 67,
     "metadata": {},
     "output_type": "execute_result"
    }
   ],
   "source": [
    "# Uno participantes con la región correspondiente desde 'usuarios'\n",
    "p_con_region = participantes.merge(\n",
    "    usuarios[['user_id', 'region']],\n",
    "    on='user_id',\n",
    "    how='left'\n",
    ")\n",
    "\n",
    "# Filtro los que no son de EU \n",
    "no_eu = p_con_region[p_con_region['region'] != 'eu']\n",
    "\n",
    "no_eu['region'].value_counts(dropna=False)\n"
   ]
  },
  {
   "cell_type": "code",
   "execution_count": 68,
   "metadata": {},
   "outputs": [
    {
     "data": {
      "application/vnd.microsoft.datawrangler.viewer.v0+json": {
       "columns": [
        {
         "name": "group",
         "rawType": "object",
         "type": "string"
        },
        {
         "name": "count",
         "rawType": "int64",
         "type": "integer"
        }
       ],
       "ref": "ef218021-dbef-49b4-af78-89531b4d7246",
       "rows": [
        [
         "A",
         "8071"
        ],
        [
         "B",
         "6260"
        ]
       ],
       "shape": {
        "columns": 1,
        "rows": 2
       }
      },
      "text/plain": [
       "group\n",
       "A    8071\n",
       "B    6260\n",
       "Name: count, dtype: int64"
      ]
     },
     "execution_count": 68,
     "metadata": {},
     "output_type": "execute_result"
    }
   ],
   "source": [
    "# Filtramos participantes de la región EU\n",
    "participantes_eu = p_con_region[p_con_region['region'] == 'eu'].copy()\n",
    "\n",
    "participantes_eu['group'].value_counts()\n"
   ]
  },
  {
   "cell_type": "markdown",
   "metadata": {},
   "source": [
    "#### Conclusión:\n",
    "La preparación de los datos confirmó que la gran mayoría de participantes pertenecen a la región EU, aunque se identificaron y excluyeron 194 usuarios fuera de alcance. Tras el filtrado, contamos con 14.3K usuarios válidos distribuidos en los grupos de control y test, una muestra suficientemente robusta para continuar con la validación del experimento."
   ]
  },
  {
   "cell_type": "markdown",
   "metadata": {},
   "source": [
    "## Paso 3: Análisis exploratorio de datos"
   ]
  },
  {
   "cell_type": "markdown",
   "metadata": {},
   "source": [
    "### 3.1 Validación rango de fechas"
   ]
  },
  {
   "cell_type": "code",
   "execution_count": 69,
   "metadata": {},
   "outputs": [
    {
     "data": {
      "text/plain": [
       "(Timestamp('2020-12-07 00:00:00'), Timestamp('2020-12-23 00:00:00'))"
      ]
     },
     "execution_count": 69,
     "metadata": {},
     "output_type": "execute_result"
    }
   ],
   "source": [
    "# Fechas oficiales del experimento\n",
    "start_date = pd.Timestamp('2020-12-07')\n",
    "end_date   = pd.Timestamp('2020-12-21')\n",
    "\n",
    "# Unimos participantes con su fecha de registro\n",
    "p_fechas = participantes_eu.merge(\n",
    "    usuarios[['user_id','first_date']], \n",
    "    on='user_id', \n",
    "    how='left'\n",
    ")\n",
    "\n",
    "# Reviso fechas mínimo y máximo\n",
    "p_fechas['first_date'].min(), p_fechas['first_date'].max()\n"
   ]
  },
  {
   "cell_type": "markdown",
   "metadata": {},
   "source": [
    "* Interpretación\n",
    "\n",
    "Esto significa que algunos usuarios fueron admitidos en la prueba después de la fecha de corte oficial.\n",
    "En concreto: se colaron registros del 22 y 23 de diciembre.\n",
    "\n",
    "Esto no invalida el test, pero sí rompe la regla del diseño original, que era aceptar solo hasta el 21."
   ]
  },
  {
   "cell_type": "code",
   "execution_count": 70,
   "metadata": {},
   "outputs": [
    {
     "data": {
      "application/vnd.microsoft.datawrangler.viewer.v0+json": {
       "columns": [
        {
         "name": "first_date",
         "rawType": "datetime64[ns]",
         "type": "datetime"
        },
        {
         "name": "count",
         "rawType": "int64",
         "type": "integer"
        }
       ],
       "ref": "6045039f-fd3b-4070-99bf-855cc0e90af2",
       "rows": [
        [
         "2020-12-22 00:00:00",
         "587"
        ],
        [
         "2020-12-23 00:00:00",
         "415"
        ]
       ],
       "shape": {
        "columns": 1,
        "rows": 2
       }
      },
      "text/plain": [
       "first_date\n",
       "2020-12-22    587\n",
       "2020-12-23    415\n",
       "Name: count, dtype: int64"
      ]
     },
     "execution_count": 70,
     "metadata": {},
     "output_type": "execute_result"
    }
   ],
   "source": [
    "# Cuantos usuarios se registraron fuera del rango\n",
    "fuera_rango = p_fechas[\n",
    "    (p_fechas['first_date'] < start_date) | \n",
    "    (p_fechas['first_date'] > end_date)\n",
    "]\n",
    "\n",
    "fuera_rango['first_date'].value_counts().sort_index()\n"
   ]
  },
  {
   "cell_type": "code",
   "execution_count": 71,
   "metadata": {},
   "outputs": [
    {
     "data": {
      "application/vnd.microsoft.datawrangler.viewer.v0+json": {
       "columns": [
        {
         "name": "group",
         "rawType": "object",
         "type": "string"
        },
        {
         "name": "count",
         "rawType": "int64",
         "type": "integer"
        }
       ],
       "ref": "52aa0fc0-4e38-4a6f-93d7-b3ccee28e142",
       "rows": [
        [
         "A",
         "7582"
        ],
        [
         "B",
         "5747"
        ]
       ],
       "shape": {
        "columns": 1,
        "rows": 2
       }
      },
      "text/plain": [
       "group\n",
       "A    7582\n",
       "B    5747\n",
       "Name: count, dtype: int64"
      ]
     },
     "execution_count": 71,
     "metadata": {},
     "output_type": "execute_result"
    }
   ],
   "source": [
    "# Usuarios registrados dentro de la ventana oficial\n",
    "participantes_eu_validos = p_fechas[\n",
    "    (p_fechas['first_date'] >= start_date) &\n",
    "    (p_fechas['first_date'] <= end_date)\n",
    "].copy()\n",
    "\n",
    "participantes_eu_validos['group'].value_counts()\n"
   ]
  },
  {
   "cell_type": "markdown",
   "metadata": {},
   "source": [
    "#### Conclusión\n",
    "\n",
    "La gran mayoría de los participantes fueron reclutados correctamente entre el 7 y el 21 de diciembre.\n",
    "\n",
    "Sin embargo, se identificaron 1 002 usuarios (22–23 dic) que se colaron fuera de la ventana de reclutamiento.\n",
    "\n",
    "Estos usuarios fueron excluidos del análisis, dejando una muestra final de 13 329 participantes válidos (7 582 en A y 5 747 en B)."
   ]
  },
  {
   "cell_type": "markdown",
   "metadata": {},
   "source": [
    "### 3.2 Conversión en las diferentes etapas del embudo "
   ]
  },
  {
   "cell_type": "code",
   "execution_count": 72,
   "metadata": {},
   "outputs": [
    {
     "data": {
      "application/vnd.microsoft.datawrangler.viewer.v0+json": {
       "columns": [
        {
         "name": "group",
         "rawType": "object",
         "type": "string"
        },
        {
         "name": "product_page",
         "rawType": "int64",
         "type": "integer"
        },
        {
         "name": "product_cart",
         "rawType": "int64",
         "type": "integer"
        },
        {
         "name": "purchase",
         "rawType": "int64",
         "type": "integer"
        }
       ],
       "ref": "4d6e023f-7bd7-4f8c-822d-2ca8bcc17f58",
       "rows": [
        [
         "A",
         "4778",
         "2291",
         "2473"
        ],
        [
         "B",
         "3616",
         "1856",
         "1827"
        ]
       ],
       "shape": {
        "columns": 3,
        "rows": 2
       }
      },
      "text/html": [
       "<div>\n",
       "<style scoped>\n",
       "    .dataframe tbody tr th:only-of-type {\n",
       "        vertical-align: middle;\n",
       "    }\n",
       "\n",
       "    .dataframe tbody tr th {\n",
       "        vertical-align: top;\n",
       "    }\n",
       "\n",
       "    .dataframe thead th {\n",
       "        text-align: right;\n",
       "    }\n",
       "</style>\n",
       "<table border=\"1\" class=\"dataframe\">\n",
       "  <thead>\n",
       "    <tr style=\"text-align: right;\">\n",
       "      <th>event_name</th>\n",
       "      <th>product_page</th>\n",
       "      <th>product_cart</th>\n",
       "      <th>purchase</th>\n",
       "    </tr>\n",
       "    <tr>\n",
       "      <th>group</th>\n",
       "      <th></th>\n",
       "      <th></th>\n",
       "      <th></th>\n",
       "    </tr>\n",
       "  </thead>\n",
       "  <tbody>\n",
       "    <tr>\n",
       "      <th>A</th>\n",
       "      <td>4778</td>\n",
       "      <td>2291</td>\n",
       "      <td>2473</td>\n",
       "    </tr>\n",
       "    <tr>\n",
       "      <th>B</th>\n",
       "      <td>3616</td>\n",
       "      <td>1856</td>\n",
       "      <td>1827</td>\n",
       "    </tr>\n",
       "  </tbody>\n",
       "</table>\n",
       "</div>"
      ],
      "text/plain": [
       "event_name  product_page  product_cart  purchase\n",
       "group                                           \n",
       "A                   4778          2291      2473\n",
       "B                   3616          1856      1827"
      ]
     },
     "execution_count": 72,
     "metadata": {},
     "output_type": "execute_result"
    }
   ],
   "source": [
    "# Filtramos solo eventos de usuarios válidos \n",
    "eventos_validos = eventos.merge(\n",
    "    participantes_eu_validos[['user_id','group']],\n",
    "    on='user_id',\n",
    "    how='inner'\n",
    ")\n",
    "\n",
    "# Conteo de usuarios únicos por grupo y evento\n",
    "embudo = (\n",
    "    eventos_validos[eventos_validos['event_name'].isin(['product_page','product_cart','purchase'])]\n",
    "    .groupby(['group','event_name'])['user_id']\n",
    "    .nunique()\n",
    "    .unstack(fill_value=0)\n",
    ")\n",
    "\n",
    "# Reordenar columnas del embudo en el orden lógico\n",
    "orden = ['product_page', 'product_cart', 'purchase']\n",
    "embudo = embudo.reindex(columns=orden)\n",
    "\n",
    "embudo = embudo.reindex(['A','B'])\n",
    "\n",
    "embudo\n"
   ]
  },
  {
   "cell_type": "code",
   "execution_count": 73,
   "metadata": {},
   "outputs": [
    {
     "data": {
      "application/vnd.microsoft.datawrangler.viewer.v0+json": {
       "columns": [
        {
         "name": "group",
         "rawType": "object",
         "type": "string"
        },
        {
         "name": "product_page",
         "rawType": "float64",
         "type": "float"
        },
        {
         "name": "product_cart",
         "rawType": "float64",
         "type": "float"
        },
        {
         "name": "purchase",
         "rawType": "float64",
         "type": "float"
        }
       ],
       "ref": "6c3712d5-d8cf-44f9-b2ab-643e910da757",
       "rows": [
        [
         "A",
         "65.98",
         "31.63",
         "34.15"
        ],
        [
         "B",
         "64.1",
         "32.9",
         "32.39"
        ]
       ],
       "shape": {
        "columns": 3,
        "rows": 2
       }
      },
      "text/html": [
       "<div>\n",
       "<style scoped>\n",
       "    .dataframe tbody tr th:only-of-type {\n",
       "        vertical-align: middle;\n",
       "    }\n",
       "\n",
       "    .dataframe tbody tr th {\n",
       "        vertical-align: top;\n",
       "    }\n",
       "\n",
       "    .dataframe thead th {\n",
       "        text-align: right;\n",
       "    }\n",
       "</style>\n",
       "<table border=\"1\" class=\"dataframe\">\n",
       "  <thead>\n",
       "    <tr style=\"text-align: right;\">\n",
       "      <th>event_name</th>\n",
       "      <th>product_page</th>\n",
       "      <th>product_cart</th>\n",
       "      <th>purchase</th>\n",
       "    </tr>\n",
       "    <tr>\n",
       "      <th>group</th>\n",
       "      <th></th>\n",
       "      <th></th>\n",
       "      <th></th>\n",
       "    </tr>\n",
       "  </thead>\n",
       "  <tbody>\n",
       "    <tr>\n",
       "      <th>A</th>\n",
       "      <td>65.98</td>\n",
       "      <td>31.63</td>\n",
       "      <td>34.15</td>\n",
       "    </tr>\n",
       "    <tr>\n",
       "      <th>B</th>\n",
       "      <td>64.10</td>\n",
       "      <td>32.90</td>\n",
       "      <td>32.39</td>\n",
       "    </tr>\n",
       "  </tbody>\n",
       "</table>\n",
       "</div>"
      ],
      "text/plain": [
       "event_name  product_page  product_cart  purchase\n",
       "group                                           \n",
       "A                  65.98         31.63     34.15\n",
       "B                  64.10         32.90     32.39"
      ]
     },
     "execution_count": 73,
     "metadata": {},
     "output_type": "execute_result"
    }
   ],
   "source": [
    "totales_por_grupo = participantes_eu_validos.groupby('group')['user_id'].nunique()\n",
    "\n",
    "embudo_pct = embudo.div(totales_por_grupo, axis=0) * 100\n",
    "\n",
    "embudo_pct = embudo_pct.round(2)\n",
    "\n",
    "embudo_pct\n"
   ]
  },
  {
   "cell_type": "code",
   "execution_count": 74,
   "metadata": {},
   "outputs": [
    {
     "data": {
      "image/png": "[encoded data removed]",
      "text/plain": [
       "<Figure size 500x300 with 1 Axes>"
      ]
     },
     "metadata": {},
     "output_type": "display_data"
    }
   ],
   "source": [
    "etapas = ['product_page', 'product_cart', 'purchase']\n",
    "x = np.arange(len(etapas))  # posiciones en el eje X\n",
    "ancho = 0.35                 # ancho de cada barra\n",
    "\n",
    "fig, ax = plt.subplots(figsize=(5, 3))\n",
    "\n",
    "valores_A = embudo_pct.loc['A', etapas]\n",
    "valores_B = embudo_pct.loc['B', etapas]\n",
    "\n",
    "bars_A = ax.bar(x - ancho/2, valores_A, width=ancho, label='Grupo A', color='steelblue', alpha=0.8)\n",
    "bars_B = ax.bar(x + ancho/2, valores_B, width=ancho, label='Grupo B', color='orange', alpha=0.8)\n",
    "\n",
    "for bar in bars_A + bars_B:\n",
    "    altura = bar.get_height()\n",
    "    ax.text(bar.get_x() + bar.get_width()/2, altura + 1, f'{altura:.1f}%', \n",
    "            ha='center', va='bottom', fontsize=9)\n",
    "\n",
    "ax.set_ylabel('Porcentaje de usuarios (%)')\n",
    "ax.set_title('Embudo de conversión por grupo (A vs B)')\n",
    "ax.set_xticks(x)\n",
    "ax.set_xticklabels(['Product Page', 'Product Cart', 'Purchase'])\n",
    "ax.legend()\n",
    "\n",
    "plt.tight_layout()\n",
    "plt.show()\n"
   ]
  },
  {
   "cell_type": "markdown",
   "metadata": {},
   "source": [
    "#### Conclusión – Embudo de conversión\n",
    "\n",
    "El embudo muestra un patrón esperado en la primera etapa: la mayoría de usuarios visita al menos una página de producto.  \n",
    "Sin embargo, observamos un comportamiento particular:\n",
    "\n",
    "- En ambos grupos hay más compras (purchase) que eventos de añadir al carrito (product_cart).  \n",
    "- Esto indica que muchos usuarios realizan compras directas sin que se registre un product_cart previo.  \n",
    "\n",
    "Existen varias explicaciones plausibles:  \n",
    "1. Algunos usuarios utilizan un flujo de “compra rápida” que no pasa explícitamente por el carrito.  \n",
    "2. El sistema de tracking puede no registrar todos los clics en “añadir al carrito”, pero sí registrar la compra.  \n",
    "3. Es posible que existan otros embudos alternativos (listas de deseos, compras desde recomendaciones, etc.) que terminan en purchase sin product_cart.\n",
    "\n",
    "En conclusión, el embudo clásico page → cart → purchase no se cumple de forma estricta en estos datos.  \n",
    "Esto no es un error de análisis, sino una peculiaridad del sistema de eventos, y debe ser comunicado claramente a directivos para que entiendan que los usuarios tienen más de un camino hacia la compra.\n"
   ]
  },
  {
   "cell_type": "markdown",
   "metadata": {},
   "source": [
    "### 3.3 ¿El número de eventos por usuario está distribuido equitativamente entre las muestras?"
   ]
  },
  {
   "cell_type": "code",
   "execution_count": 79,
   "metadata": {},
   "outputs": [
    {
     "data": {
      "application/vnd.microsoft.datawrangler.viewer.v0+json": {
       "columns": [
        {
         "name": "group",
         "rawType": "object",
         "type": "string"
        },
        {
         "name": "count",
         "rawType": "float64",
         "type": "float"
        },
        {
         "name": "mean",
         "rawType": "float64",
         "type": "float"
        },
        {
         "name": "std",
         "rawType": "float64",
         "type": "float"
        },
        {
         "name": "min",
         "rawType": "float64",
         "type": "float"
        },
        {
         "name": "25%",
         "rawType": "float64",
         "type": "float"
        },
        {
         "name": "50%",
         "rawType": "float64",
         "type": "float"
        },
        {
         "name": "75%",
         "rawType": "float64",
         "type": "float"
        },
        {
         "name": "max",
         "rawType": "float64",
         "type": "float"
        }
       ],
       "ref": "296918e2-5416-4a8f-a42d-99f5f70f85d0",
       "rows": [
        [
         "A",
         "6801.0",
         "7.694750771945302",
         "4.585339531378598",
         "1.0",
         "4.0",
         "6.0",
         "10.0",
         "40.0"
        ],
        [
         "B",
         "5200.0",
         "7.381346153846154",
         "4.343466718046725",
         "1.0",
         "4.0",
         "6.0",
         "9.0",
         "36.0"
        ]
       ],
       "shape": {
        "columns": 8,
        "rows": 2
       }
      },
      "text/html": [
       "<div>\n",
       "<style scoped>\n",
       "    .dataframe tbody tr th:only-of-type {\n",
       "        vertical-align: middle;\n",
       "    }\n",
       "\n",
       "    .dataframe tbody tr th {\n",
       "        vertical-align: top;\n",
       "    }\n",
       "\n",
       "    .dataframe thead th {\n",
       "        text-align: right;\n",
       "    }\n",
       "</style>\n",
       "<table border=\"1\" class=\"dataframe\">\n",
       "  <thead>\n",
       "    <tr style=\"text-align: right;\">\n",
       "      <th></th>\n",
       "      <th>count</th>\n",
       "      <th>mean</th>\n",
       "      <th>std</th>\n",
       "      <th>min</th>\n",
       "      <th>25%</th>\n",
       "      <th>50%</th>\n",
       "      <th>75%</th>\n",
       "      <th>max</th>\n",
       "    </tr>\n",
       "    <tr>\n",
       "      <th>group</th>\n",
       "      <th></th>\n",
       "      <th></th>\n",
       "      <th></th>\n",
       "      <th></th>\n",
       "      <th></th>\n",
       "      <th></th>\n",
       "      <th></th>\n",
       "      <th></th>\n",
       "    </tr>\n",
       "  </thead>\n",
       "  <tbody>\n",
       "    <tr>\n",
       "      <th>A</th>\n",
       "      <td>6801.0</td>\n",
       "      <td>7.694751</td>\n",
       "      <td>4.585340</td>\n",
       "      <td>1.0</td>\n",
       "      <td>4.0</td>\n",
       "      <td>6.0</td>\n",
       "      <td>10.0</td>\n",
       "      <td>40.0</td>\n",
       "    </tr>\n",
       "    <tr>\n",
       "      <th>B</th>\n",
       "      <td>5200.0</td>\n",
       "      <td>7.381346</td>\n",
       "      <td>4.343467</td>\n",
       "      <td>1.0</td>\n",
       "      <td>4.0</td>\n",
       "      <td>6.0</td>\n",
       "      <td>9.0</td>\n",
       "      <td>36.0</td>\n",
       "    </tr>\n",
       "  </tbody>\n",
       "</table>\n",
       "</div>"
      ],
      "text/plain": [
       "        count      mean       std  min  25%  50%   75%   max\n",
       "group                                                       \n",
       "A      6801.0  7.694751  4.585340  1.0  4.0  6.0  10.0  40.0\n",
       "B      5200.0  7.381346  4.343467  1.0  4.0  6.0   9.0  36.0"
      ]
     },
     "execution_count": 79,
     "metadata": {},
     "output_type": "execute_result"
    }
   ],
   "source": [
    "# Contamos eventos totales por usuario\n",
    "eventos_validos_final = eventos.merge(\n",
    "    participantes_final[['user_id','group']],\n",
    "    on='user_id',\n",
    "    how='inner'\n",
    ")\n",
    "\n",
    "# Número de eventos por usuario\n",
    "eventos_por_usuario = (\n",
    "    eventos_validos_final.groupby(['user_id','group'])['event_name']\n",
    "    .count()\n",
    "    .reset_index(name='eventos_count')\n",
    ")\n",
    "\n",
    "eventos_por_usuario.groupby('group')['eventos_count'].describe()\n"
   ]
  },
  {
   "cell_type": "code",
   "execution_count": 80,
   "metadata": {},
   "outputs": [
    {
     "data": {
      "image/png": "[encoded data removed]",
      "text/plain": [
       "<Figure size 800x500 with 1 Axes>"
      ]
     },
     "metadata": {},
     "output_type": "display_data"
    }
   ],
   "source": [
    "fig, ax = plt.subplots(figsize=(8,5))\n",
    "\n",
    "# Histograma grupo A\n",
    "ax.hist(\n",
    "    eventos_por_usuario.loc[eventos_por_usuario['group']=='A','eventos_count'],\n",
    "    bins=30, alpha=0.6, label='Grupo A', color='steelblue'\n",
    ")\n",
    "\n",
    "# Histograma grupo B\n",
    "ax.hist(\n",
    "    eventos_por_usuario.loc[eventos_por_usuario['group']=='B','eventos_count'],\n",
    "    bins=30, alpha=0.6, label='Grupo B', color='orange'\n",
    ")\n",
    "\n",
    "# Ajustes estéticos\n",
    "ax.set_title('Distribución de eventos por usuario (A vs B)')\n",
    "ax.set_xlabel('Número de eventos por usuario')\n",
    "ax.set_ylabel('Frecuencia (usuarios)')\n",
    "ax.legend()\n",
    "\n",
    "plt.show()\n"
   ]
  },
  {
   "cell_type": "markdown",
   "metadata": {},
   "source": [
    "#### Conclusión eventos por usuario\n",
    "\n",
    "La distribución del número de eventos por usuario es consistente entre los grupos A y B.\n",
    "Ambos presentan un promedio de alrededor de 7 eventos y una mediana de 6, lo que confirma que la actividad está equilibrada entre muestras."
   ]
  },
  {
   "cell_type": "markdown",
   "metadata": {},
   "source": [
    "### 3.4 ¿Hay usuarios que están presentes en ambas muestras?"
   ]
  },
  {
   "cell_type": "code",
   "execution_count": 81,
   "metadata": {},
   "outputs": [
    {
     "data": {
      "text/plain": [
       "441"
      ]
     },
     "execution_count": 81,
     "metadata": {},
     "output_type": "execute_result"
    }
   ],
   "source": [
    "# Revisamos cuántos grupos distintos tiene cada user_id\n",
    "cruces = participantes_eu_validos.groupby('user_id')['group'].nunique()\n",
    "\n",
    "# Filtramos los que están en más de un grupo\n",
    "en_ambos = cruces[cruces > 1].index\n",
    "\n",
    "len(en_ambos)\n"
   ]
  },
  {
   "cell_type": "code",
   "execution_count": 82,
   "metadata": {},
   "outputs": [
    {
     "data": {
      "application/vnd.microsoft.datawrangler.viewer.v0+json": {
       "columns": [
        {
         "name": "group",
         "rawType": "object",
         "type": "string"
        },
        {
         "name": "count",
         "rawType": "int64",
         "type": "integer"
        }
       ],
       "ref": "fd1a91e2-5b1c-4815-b135-b89f2212075c",
       "rows": [
        [
         "A",
         "7141"
        ],
        [
         "B",
         "5306"
        ]
       ],
       "shape": {
        "columns": 1,
        "rows": 2
       }
      },
      "text/plain": [
       "group\n",
       "A    7141\n",
       "B    5306\n",
       "Name: count, dtype: int64"
      ]
     },
     "execution_count": 82,
     "metadata": {},
     "output_type": "execute_result"
    }
   ],
   "source": [
    "# Excluir usuarios que aparecen en ambos grupos\n",
    "participantes_final = participantes_eu_validos[~participantes_eu_validos['user_id'].isin(en_ambos)].copy()\n",
    "\n",
    "# Conteo final por grupo\n",
    "participantes_final['group'].value_counts()\n"
   ]
  },
  {
   "cell_type": "markdown",
   "metadata": {},
   "source": [
    "#### Conclusión – Validación de asignación a grupos\n",
    "\n",
    "Se detectaron 441 usuarios presentes en ambos grupos, lo que violaba el diseño del experimento.\n",
    "\n",
    "Estos usuarios fueron excluidos.\n",
    "\n",
    "La muestra final se reduce a 12.447 participantes válidos.\n",
    "\n",
    "Ahora sí tenemos una base confiable para analizar el embudo y las conversiones."
   ]
  },
  {
   "cell_type": "markdown",
   "metadata": {},
   "source": [
    "### 3.5 ¿Cómo se distribuye el número de eventos entre los días?"
   ]
  },
  {
   "cell_type": "code",
   "execution_count": 83,
   "metadata": {},
   "outputs": [
    {
     "data": {
      "application/vnd.microsoft.datawrangler.viewer.v0+json": {
       "columns": [
        {
         "name": "event_date",
         "rawType": "object",
         "type": "unknown"
        },
        {
         "name": "A",
         "rawType": "int64",
         "type": "integer"
        },
        {
         "name": "B",
         "rawType": "int64",
         "type": "integer"
        }
       ],
       "ref": "b38564c7-28bb-4bf8-a0cc-f05af7af2522",
       "rows": [
        [
         "2020-12-07",
         "1260",
         "1278"
        ],
        [
         "2020-12-08",
         "1397",
         "1329"
        ],
        [
         "2020-12-09",
         "1464",
         "1420"
        ],
        [
         "2020-12-10",
         "1546",
         "1439"
        ],
        [
         "2020-12-11",
         "1585",
         "1397"
        ]
       ],
       "shape": {
        "columns": 2,
        "rows": 5
       }
      },
      "text/html": [
       "<div>\n",
       "<style scoped>\n",
       "    .dataframe tbody tr th:only-of-type {\n",
       "        vertical-align: middle;\n",
       "    }\n",
       "\n",
       "    .dataframe tbody tr th {\n",
       "        vertical-align: top;\n",
       "    }\n",
       "\n",
       "    .dataframe thead th {\n",
       "        text-align: right;\n",
       "    }\n",
       "</style>\n",
       "<table border=\"1\" class=\"dataframe\">\n",
       "  <thead>\n",
       "    <tr style=\"text-align: right;\">\n",
       "      <th>group</th>\n",
       "      <th>A</th>\n",
       "      <th>B</th>\n",
       "    </tr>\n",
       "    <tr>\n",
       "      <th>event_date</th>\n",
       "      <th></th>\n",
       "      <th></th>\n",
       "    </tr>\n",
       "  </thead>\n",
       "  <tbody>\n",
       "    <tr>\n",
       "      <th>2020-12-07</th>\n",
       "      <td>1260</td>\n",
       "      <td>1278</td>\n",
       "    </tr>\n",
       "    <tr>\n",
       "      <th>2020-12-08</th>\n",
       "      <td>1397</td>\n",
       "      <td>1329</td>\n",
       "    </tr>\n",
       "    <tr>\n",
       "      <th>2020-12-09</th>\n",
       "      <td>1464</td>\n",
       "      <td>1420</td>\n",
       "    </tr>\n",
       "    <tr>\n",
       "      <th>2020-12-10</th>\n",
       "      <td>1546</td>\n",
       "      <td>1439</td>\n",
       "    </tr>\n",
       "    <tr>\n",
       "      <th>2020-12-11</th>\n",
       "      <td>1585</td>\n",
       "      <td>1397</td>\n",
       "    </tr>\n",
       "  </tbody>\n",
       "</table>\n",
       "</div>"
      ],
      "text/plain": [
       "group          A     B\n",
       "event_date            \n",
       "2020-12-07  1260  1278\n",
       "2020-12-08  1397  1329\n",
       "2020-12-09  1464  1420\n",
       "2020-12-10  1546  1439\n",
       "2020-12-11  1585  1397"
      ]
     },
     "execution_count": 83,
     "metadata": {},
     "output_type": "execute_result"
    }
   ],
   "source": [
    "# Se crea una columna con solo la fecha\n",
    "eventos_validos_final['event_date'] = eventos_validos_final['event_dt'].dt.date\n",
    "\n",
    "# Se cuentan los eventos diarios por grupo\n",
    "eventos_por_dia = (\n",
    "    eventos_validos_final.groupby(['event_date','group'])['event_name']\n",
    "    .count()\n",
    "    .reset_index(name='n_eventos')\n",
    ")\n",
    "\n",
    "# Pivot para comparar A vs B lado a lado\n",
    "eventos_por_dia_pivot = eventos_por_dia.pivot(index='event_date', columns='group', values='n_eventos').fillna(0)\n",
    "\n",
    "eventos_por_dia_pivot.head()\n"
   ]
  },
  {
   "cell_type": "code",
   "execution_count": 84,
   "metadata": {},
   "outputs": [
    {
     "data": {
      "image/png": "[encoded data removed]",
      "text/plain": [
       "<Figure size 1200x600 with 1 Axes>"
      ]
     },
     "metadata": {},
     "output_type": "display_data"
    }
   ],
   "source": [
    "fig, ax = plt.subplots(figsize=(12,6))\n",
    "\n",
    "ax.plot(eventos_por_dia_pivot.index, eventos_por_dia_pivot['A'], \n",
    "        label='Grupo A', color='steelblue', marker='o')\n",
    "ax.plot(eventos_por_dia_pivot.index, eventos_por_dia_pivot['B'], \n",
    "        label='Grupo B', color='orange', marker='o')\n",
    "\n",
    "ax.set_title('Evolución de eventos diarios por grupo (A vs B)')\n",
    "ax.set_xlabel('Fecha')\n",
    "ax.set_ylabel('Número de eventos')\n",
    "ax.legend()\n",
    "plt.xticks(rotation=45)\n",
    "plt.tight_layout()\n",
    "plt.show()\n"
   ]
  },
  {
   "cell_type": "markdown",
   "metadata": {},
   "source": [
    "#### Conclusión distribución de eventos por día\n",
    "\n",
    "La distribución de eventos en el tiempo es coherente y no muestra anomalías relevantes.\n",
    "Ambos grupos siguen patrones paralelos, con un aumento natural hacia el 21 de diciembre (fin de reclutamiento).\n",
    "Esto indica que no hubo fallos técnicos ni sesgos graves en la recolección de datos durante el test."
   ]
  },
  {
   "cell_type": "markdown",
   "metadata": {},
   "source": [
    "### Conclusión \n",
    "\n",
    "El análisis exploratorio de datos nos permitió identificar que:\n",
    "\n",
    "- **Embudo de conversión:** la secuencia esperada product_page → product_cart → purchase no se cumple de manera estricta. En ambos grupos hay más usuarios con purchase que con product_cart, lo que indica que muchos realizan compras directas sin pasar por el carrito o que existen limitaciones en el tracking de eventos intermedios.\n",
    "  \n",
    "- **Actividad por usuario:** la distribución de eventos por usuario es muy similar en A y B, con una mediana de 6 eventos y promedios cercanos (~7.7 en A vs ~7.4 en B). Esto confirma que la intensidad de uso de la aplicación está equilibrada entre grupos.  \n",
    "- **Integridad de los datos:** se identificaron y excluyeron dos tipos de anomalías antes del análisis estadístico:  \n",
    "   \n",
    "La exploración confirma que los datos son consistentes y que las diferencias iniciales (usuarios fuera de rango, duplicados y embudo no clásico) fueron corregidas o documentadas.  \n",
    "La muestra final es sólida y está lista para pasar a la etapa de pruebas estadísticas con confianza.\n"
   ]
  },
  {
   "cell_type": "markdown",
   "metadata": {},
   "source": [
    "## Paso 4. Evaluar los resultados de la prueba A/B"
   ]
  },
  {
   "cell_type": "markdown",
   "metadata": {},
   "source": [
    "### 4.1 Prueba Z"
   ]
  },
  {
   "cell_type": "code",
   "execution_count": 85,
   "metadata": {},
   "outputs": [
    {
     "data": {
      "text/plain": [
       "(event_name  product_page  product_cart  purchase\n",
       " group                                           \n",
       " A                   4507          2165      2346\n",
       " B                   3345          1730      1700,\n",
       " event_name  product_page  product_cart  purchase\n",
       " group                                           \n",
       " A                  66.27         31.83     34.49\n",
       " B                  64.33         33.27     32.69)"
      ]
     },
     "execution_count": 85,
     "metadata": {},
     "output_type": "execute_result"
    }
   ],
   "source": [
    "# Tasas de conversión para cada grupo\n",
    "# Participantes finales por grupo\n",
    "totales = participantes_final.groupby('group')['user_id'].nunique()\n",
    "\n",
    "# Usuarios únicos por evento y grupo\n",
    "usuarios_por_evento = (\n",
    "    eventos_validos_final[eventos_validos_final['event_name'].isin(['product_page','product_cart','purchase'])]\n",
    "    .groupby(['group','event_name'])['user_id']\n",
    "    .nunique()\n",
    "    .unstack(fill_value=0)\n",
    ")\n",
    "\n",
    "usuarios_por_evento = usuarios_por_evento[['product_page','product_cart','purchase']]\n",
    "\n",
    "# Se calcula tasas de conversión \n",
    "conversiones = usuarios_por_evento.div(totales, axis=0).round(4) * 100\n",
    "\n",
    "usuarios_por_evento, conversiones\n"
   ]
  },
  {
   "cell_type": "code",
   "execution_count": 86,
   "metadata": {},
   "outputs": [],
   "source": [
    "def prueba_z_conversion(success_a, total_a, success_b, total_b, etapa):\n",
    "    \"\"\"\n",
    "    Aplica prueba z de dos proporciones entre grupo A y B.\n",
    "    \n",
    "    success_a = usuarios con el evento en A\n",
    "    total_a   = total de usuarios en A\n",
    "    success_b = usuarios con el evento en B\n",
    "    total_b   = total de usuarios en B\n",
    "    etapa     = nombre del evento (string)\n",
    "    \"\"\"\n",
    "    count = [success_a, success_b]   # éxitos \n",
    "    nobs = [total_a, total_b]        # observaciones totales por grupo\n",
    "    \n",
    "    stat, pval = proportions_ztest(count, nobs)\n",
    "    \n",
    "    print(f\"--- {etapa.upper()} ---\")\n",
    "    print(f\"Grupo A: {success_a}/{total_a} = {success_a/total_a:.2%}\")\n",
    "    print(f\"Grupo B: {success_b}/{total_b} = {success_b/total_b:.2%}\")\n",
    "    print(f\"Z = {stat:.3f}, p-valor = {pval:.4f}\")\n",
    "    \n",
    "    if pval < 0.05:\n",
    "        print(\"Diferencia estadísticamente significativa (α=0.05).\")\n",
    "    else:\n",
    "        print(\"No se detecta diferencia significativa (α=0.05).\")\n",
    "    print()\n"
   ]
  },
  {
   "cell_type": "markdown",
   "metadata": {},
   "source": [
    "#### Prueba z product_page"
   ]
  },
  {
   "cell_type": "code",
   "execution_count": 87,
   "metadata": {},
   "outputs": [
    {
     "name": "stdout",
     "output_type": "stream",
     "text": [
      "--- PRODUCT_PAGE ---\n",
      "Grupo A: 4507/7141 = 63.11%\n",
      "Grupo B: 3345/5306 = 63.04%\n",
      "Z = 0.083, p-valor = 0.9339\n",
      "No se detecta diferencia significativa (α=0.05).\n",
      "\n"
     ]
    }
   ],
   "source": [
    "total_a, total_b = 7141, 5306\n",
    "\n",
    "success_a, success_b = 4507, 3345\n",
    "\n",
    "prueba_z_conversion(success_a, total_a, success_b, total_b, etapa='product_page')"
   ]
  },
  {
   "cell_type": "markdown",
   "metadata": {},
   "source": [
    "#### Conclusión: \n",
    "El nuevo sistema de recomendaciones no generó un aumento significativo en las visitas a páginas de producto."
   ]
  },
  {
   "cell_type": "markdown",
   "metadata": {},
   "source": [
    "#### Prueba Z product_cart"
   ]
  },
  {
   "cell_type": "code",
   "execution_count": 88,
   "metadata": {},
   "outputs": [
    {
     "name": "stdout",
     "output_type": "stream",
     "text": [
      "--- PRODUCT_CART ---\n",
      "Grupo A: 2165/7141 = 30.32%\n",
      "Grupo B: 1730/5306 = 32.60%\n",
      "Z = -2.721, p-valor = 0.0065\n",
      "Diferencia estadísticamente significativa (α=0.05).\n",
      "\n"
     ]
    }
   ],
   "source": [
    "total_a, total_b = 7141, 5306\n",
    "\n",
    "success_a, success_b = 2165, 1730\n",
    "\n",
    "prueba_z_conversion(success_a, total_a, success_b, total_b, etapa='product_cart')"
   ]
  },
  {
   "cell_type": "markdown",
   "metadata": {},
   "source": [
    "#### Conclusión:\n",
    "El nuevo sistema sí impactó positivamente en la etapa de añadir al carrito, generando más usuarios que agregan productos al carrito en comparación con el grupo control."
   ]
  },
  {
   "cell_type": "markdown",
   "metadata": {},
   "source": []
  },
  {
   "cell_type": "markdown",
   "metadata": {},
   "source": [
    "#### Prueba z purchase"
   ]
  },
  {
   "cell_type": "code",
   "execution_count": 89,
   "metadata": {},
   "outputs": [
    {
     "name": "stdout",
     "output_type": "stream",
     "text": [
      "--- PURCHASE ---\n",
      "Grupo A: 2346/7141 = 32.85%\n",
      "Grupo B: 1700/5306 = 32.04%\n",
      "Z = 0.958, p-valor = 0.3380\n",
      "No se detecta diferencia significativa (α=0.05).\n",
      "\n"
     ]
    }
   ],
   "source": [
    "total_a, total_b = 7141, 5306\n",
    "\n",
    "success_a, success_b = 2346, 1700\n",
    "\n",
    "prueba_z_conversion(success_a, total_a, success_b, total_b, etapa='purchase')"
   ]
  },
  {
   "cell_type": "markdown",
   "metadata": {},
   "source": [
    "#### Conclusión:\n",
    "El nuevo sistema de recomendaciones no generó un aumento significativo en las visitas a páginas de de compra."
   ]
  },
  {
   "cell_type": "markdown",
   "metadata": {},
   "source": [
    "### Conclusión\n",
    "\n",
    "La prueba A/B evidencia que el sistema de recomendaciones incrementa la acción de añadir al carrito, pero este efecto no se refleja en un aumento significativo de compras finales.\n",
    "Para negocio, esto sugiere que el nuevo sistema mejora el interés de los usuarios, pero no garantiza un mayor revenue. Se recomienda evaluar si este aumento en carritos puede potenciar estrategias adicionales (ej. promociones, remarketing) para traducirlo en ventas reales."
   ]
  },
  {
   "cell_type": "markdown",
   "metadata": {},
   "source": [
    "## Conclusión final – Prueba A/B “Recommender System Test”\n",
    "\n",
    "La prueba A/B comparó el grupo **A (control)** con el grupo **B (nuevo sistema de recomendaciones)** en las etapas clave del embudo de conversión: *product_page → product_cart → purchase*.\n",
    "\n",
    "### Resultados principales:\n",
    "- **Visitas a páginas de producto (product_page):**  \n",
    "  No se observaron diferencias significativas entre los grupos (A: 63.1% | B: 63.0%, p=0.93).\n",
    "\n",
    "- **Añadir al carrito (product_cart):**  \n",
    "  El grupo B mostró una **tasa significativamente mayor** que el grupo A (A: 30.3% | B: 32.6%, p=0.0065).  \n",
    "  Esto equivale a un aumento de **+2.3 puntos porcentuales** (≈7.6% relativo).\n",
    "\n",
    "- **Compras (purchase):**  \n",
    "  No hubo diferencias significativas entre los grupos (A: 32.9% | B: 32.0%, p=0.34).\n",
    "\n",
    "El nuevo sistema de recomendaciones:\n",
    "- **Mejora la interacción intermedia del embudo** (más usuarios añaden productos al carrito).  \n",
    "- **No incrementa las compras finales**, que son el indicador clave de negocio.  \n",
    "\n",
    "### Recomendaciones:\n",
    "1. **No lanzar aún el nuevo sistema de recomendaciones como estándar**, ya que no genera un impacto directo en revenue.  \n",
    "2. **Explorar estrategias complementarias** para capitalizar el aumento en carritos: promociones, cupones, recordatorios o emails de “carrito abandonado”.  \n",
    "3. **Revisar el tracking de eventos**, dado que un número considerable de compras ocurre sin registro previo de product_cart, lo que puede afectar la interpretación del embudo.  \n",
    "\n",
    "En resumen, el sistema tiene potencial como herramienta para incrementar el interés de los usuarios, pero no garantiza por sí solo un aumento en ventas. Su implementación debería ir acompañada de acciones adicionales de conversión.\n"
   ]
  }
 ],
 "metadata": {
  "kernelspec": {
   "display_name": "Python 3",
   "language": "python",
   "name": "python3"
  },
  "language_info": {
   "codemirror_mode": {
    "name": "ipython",
    "version": 3
   },
   "file_extension": ".py",
   "mimetype": "text/x-python",
   "name": "python",
   "nbconvert_exporter": "python",
   "pygments_lexer": "ipython3",
   "version": "3.13.3"
  }
 },
 "nbformat": 4,
 "nbformat_minor": 4
}
